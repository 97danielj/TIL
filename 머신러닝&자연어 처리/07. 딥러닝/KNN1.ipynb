{
 "cells": [
  {
   "cell_type": "code",
   "execution_count": 3,
   "id": "87abce4b",
   "metadata": {},
   "outputs": [
    {
     "name": "stdout",
     "output_type": "stream",
     "text": [
      "10 10\n"
     ]
    }
   ],
   "source": [
    "#데이터\n",
    "A_길이=[25.4,26.5,27.5,28.4,29.0,29.2,30.1,30.5,31.4,31.2]\n",
    "A_무게=[243,290,340,363,430,450,500,394,450,500]\n",
    "print(len(A_길이),len(A_무게))"
   ]
  },
  {
   "cell_type": "code",
   "execution_count": 4,
   "id": "7979f31d",
   "metadata": {},
   "outputs": [
    {
     "data": {
      "text/plain": [
       "<matplotlib.collections.PathCollection at 0x1e8602b06d0>"
      ]
     },
     "execution_count": 4,
     "metadata": {},
     "output_type": "execute_result"
    },
    {
     "data": {
      "image/png": "[encoded data removed]",
      "text/plain": [
       "<Figure size 432x288 with 1 Axes>"
      ]
     },
     "metadata": {
      "needs_background": "light"
     },
     "output_type": "display_data"
    }
   ],
   "source": [
    "import matplotlib.pyplot as plt\n",
    "#산점도\n",
    "plt.scatter(A_길이, A_무게)"
   ]
  },
  {
   "cell_type": "code",
   "execution_count": 5,
   "id": "fea8f4d6",
   "metadata": {},
   "outputs": [
    {
     "data": {
      "text/plain": [
       "<matplotlib.collections.PathCollection at 0x1e860398c70>"
      ]
     },
     "execution_count": 5,
     "metadata": {},
     "output_type": "execute_result"
    },
    {
     "data": {
      "image/png": "[encoded data removed]",
      "text/plain": [
       "<Figure size 432x288 with 1 Axes>"
      ]
     },
     "metadata": {
      "needs_background": "light"
     },
     "output_type": "display_data"
    }
   ],
   "source": [
    "B_길이=[5.4,6.5,7.5,8.4,9.0,9.2,9.1,9.5,1.4,1.2]\n",
    "B_무게=[43,90,40,63,30,50,50,94,50,50]\n",
    "plt.scatter(B_길이,B_무게)"
   ]
  },
  {
   "cell_type": "code",
   "execution_count": 6,
   "id": "7d2c4f8d",
   "metadata": {},
   "outputs": [
    {
     "data": {
      "text/plain": [
       "<matplotlib.collections.PathCollection at 0x1e86040f5e0>"
      ]
     },
     "execution_count": 6,
     "metadata": {},
     "output_type": "execute_result"
    },
    {
     "data": {
      "image/png": "[encoded data removed]",
      "text/plain": [
       "<Figure size 432x288 with 1 Axes>"
      ]
     },
     "metadata": {
      "needs_background": "light"
     },
     "output_type": "display_data"
    }
   ],
   "source": [
    "plt.scatter(A_길이,A_무게)\n",
    "plt.scatter(B_길이,B_무게)"
   ]
  },
  {
   "cell_type": "code",
   "execution_count": 7,
   "id": "1fe52486",
   "metadata": {},
   "outputs": [],
   "source": [
    "길이=A_길이+B_길이\n",
    "무게=A_무게+B_무게\n",
    "data=[[길이,무게]for 길이,무게 in zip(길이,무게)]\n",
    "X=data #feature로 구성된 데이터"
   ]
  },
  {
   "cell_type": "code",
   "execution_count": 11,
   "id": "a5ca8ac9",
   "metadata": {},
   "outputs": [
    {
     "name": "stdout",
     "output_type": "stream",
     "text": [
      "[0, 0, 0, 0, 0, 0, 0, 0, 0, 0, 1, 1, 1, 1, 1, 1, 1, 1, 1, 1]\n",
      "20\n"
     ]
    }
   ],
   "source": [
    "#A=0, B=1\n",
    "Y = [0]*10+[1]*10 #정답(레이블)\n",
    "print(Y)\n",
    "print(len(Y))"
   ]
  },
  {
   "cell_type": "code",
   "execution_count": 12,
   "id": "abc187d5",
   "metadata": {},
   "outputs": [
    {
     "data": {
      "text/plain": [
       "KNeighborsClassifier()"
      ]
     },
     "execution_count": 12,
     "metadata": {},
     "output_type": "execute_result"
    }
   ],
   "source": [
    "#knn 분류알고리즘\n",
    "from sklearn.neighbors import KNeighborsClassifier\n",
    "#분류기 객체\n",
    "kn=KNeighborsClassifier()\n",
    "#분류기 학습\n",
    "kn.fit(X,Y)\n"
   ]
  },
  {
   "cell_type": "code",
   "execution_count": 13,
   "id": "8bc2e808",
   "metadata": {},
   "outputs": [
    {
     "data": {
      "text/plain": [
       "array([1, 0])"
      ]
     },
     "execution_count": 13,
     "metadata": {},
     "output_type": "execute_result"
    }
   ],
   "source": [
    "#테스트\n",
    "kn.predict([[7,40],[30,450]])"
   ]
  }
 ],
 "metadata": {
  "kernelspec": {
   "display_name": "Python 3 (ipykernel)",
   "language": "python",
   "name": "python3"
  },
  "language_info": {
   "codemirror_mode": {
    "name": "ipython",
    "version": 3
   },
   "file_extension": ".py",
   "mimetype": "text/x-python",
   "name": "python",
   "nbconvert_exporter": "python",
   "pygments_lexer": "ipython3",
   "version": "3.9.7"
  }
 },
 "nbformat": 4,
 "nbformat_minor": 5
}
